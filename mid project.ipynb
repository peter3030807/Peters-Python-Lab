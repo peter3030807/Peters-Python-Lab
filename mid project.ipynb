{
 "cells": [
  {
   "cell_type": "markdown",
   "metadata": {},
   "source": [
    "# 台灣高鐵運量統計與分析比較"
   ]
  },
  {
   "cell_type": "code",
   "execution_count": 1,
   "metadata": {},
   "outputs": [],
   "source": [
    "%matplotlib inline\n",
    "\n",
    "import numpy as np\n",
    "import matplotlib.pyplot as plt\n",
    "import matplotlib as mpl\n",
    "import pandas as pd\n",
    "mpl.rc('font', family = 'Noto Sans CJK TC')"
   ]
  },
  {
   "cell_type": "code",
   "execution_count": 25,
   "metadata": {},
   "outputs": [
    {
     "data": {
      "text/html": [
       "<div>\n",
       "<style scoped>\n",
       "    .dataframe tbody tr th:only-of-type {\n",
       "        vertical-align: middle;\n",
       "    }\n",
       "\n",
       "    .dataframe tbody tr th {\n",
       "        vertical-align: top;\n",
       "    }\n",
       "\n",
       "    .dataframe thead th {\n",
       "        text-align: right;\n",
       "    }\n",
       "</style>\n",
       "<table border=\"1\" class=\"dataframe\">\n",
       "  <thead>\n",
       "    <tr style=\"text-align: right;\">\n",
       "      <th></th>\n",
       "      <th>年</th>\n",
       "      <th>月</th>\n",
       "      <th>旅客人數</th>\n",
       "      <th>列車次數</th>\n",
       "      <th>座位公里</th>\n",
       "      <th>準點率</th>\n",
       "    </tr>\n",
       "  </thead>\n",
       "  <tbody>\n",
       "    <tr>\n",
       "      <th>0</th>\n",
       "      <td>96</td>\n",
       "      <td>1</td>\n",
       "      <td>1161047</td>\n",
       "      <td>1034</td>\n",
       "      <td>318681191</td>\n",
       "      <td>99.61%</td>\n",
       "    </tr>\n",
       "    <tr>\n",
       "      <th>1</th>\n",
       "      <td>96</td>\n",
       "      <td>2</td>\n",
       "      <td>724784</td>\n",
       "      <td>1064</td>\n",
       "      <td>330495752</td>\n",
       "      <td>99.81%</td>\n",
       "    </tr>\n",
       "    <tr>\n",
       "      <th>2</th>\n",
       "      <td>96</td>\n",
       "      <td>3</td>\n",
       "      <td>919455</td>\n",
       "      <td>1190</td>\n",
       "      <td>378951174</td>\n",
       "      <td>99.92%</td>\n",
       "    </tr>\n",
       "    <tr>\n",
       "      <th>3</th>\n",
       "      <td>96</td>\n",
       "      <td>4</td>\n",
       "      <td>1076413</td>\n",
       "      <td>1500</td>\n",
       "      <td>484511100</td>\n",
       "      <td>99.93%</td>\n",
       "    </tr>\n",
       "    <tr>\n",
       "      <th>4</th>\n",
       "      <td>96</td>\n",
       "      <td>5</td>\n",
       "      <td>1155098</td>\n",
       "      <td>1550</td>\n",
       "      <td>500661470</td>\n",
       "      <td>99.94%</td>\n",
       "    </tr>\n",
       "  </tbody>\n",
       "</table>\n",
       "</div>"
      ],
      "text/plain": [
       "    年  月     旅客人數  列車次數       座位公里     準點率\n",
       "0  96  1  1161047  1034  318681191  99.61%\n",
       "1  96  2   724784  1064  330495752  99.81%\n",
       "2  96  3   919455  1190  378951174  99.92%\n",
       "3  96  4  1076413  1500  484511100  99.93%\n",
       "4  96  5  1155098  1550  500661470  99.94%"
      ]
     },
     "execution_count": 25,
     "metadata": {},
     "output_type": "execute_result"
    }
   ],
   "source": [
    "df = pd.read_csv('https://www.rb.gov.tw/public/files/artsinfo/1548660629-0.csv')\n",
    "df.head()"
   ]
  },
  {
   "cell_type": "code",
   "execution_count": 76,
   "metadata": {
    "scrolled": true
   },
   "outputs": [
    {
     "data": {
      "text/html": [
       "<div>\n",
       "<style scoped>\n",
       "    .dataframe tbody tr th:only-of-type {\n",
       "        vertical-align: middle;\n",
       "    }\n",
       "\n",
       "    .dataframe tbody tr th {\n",
       "        vertical-align: top;\n",
       "    }\n",
       "\n",
       "    .dataframe thead th {\n",
       "        text-align: right;\n",
       "    }\n",
       "</style>\n",
       "<table border=\"1\" class=\"dataframe\">\n",
       "  <thead>\n",
       "    <tr style=\"text-align: right;\">\n",
       "      <th></th>\n",
       "      <th>年</th>\n",
       "      <th>月</th>\n",
       "      <th>旅客人數</th>\n",
       "      <th>列車次數</th>\n",
       "      <th>座位公里</th>\n",
       "      <th>準點率</th>\n",
       "    </tr>\n",
       "  </thead>\n",
       "  <tbody>\n",
       "    <tr>\n",
       "      <th>0</th>\n",
       "      <td>96</td>\n",
       "      <td>1</td>\n",
       "      <td>1161047</td>\n",
       "      <td>1034</td>\n",
       "      <td>318681191</td>\n",
       "      <td>99.61%</td>\n",
       "    </tr>\n",
       "    <tr>\n",
       "      <th>12</th>\n",
       "      <td>97</td>\n",
       "      <td>1</td>\n",
       "      <td>1958004</td>\n",
       "      <td>3589</td>\n",
       "      <td>1187956874</td>\n",
       "      <td>99.75%</td>\n",
       "    </tr>\n",
       "    <tr>\n",
       "      <th>24</th>\n",
       "      <td>98</td>\n",
       "      <td>1</td>\n",
       "      <td>2786684</td>\n",
       "      <td>4524</td>\n",
       "      <td>1486215471</td>\n",
       "      <td>98.74%</td>\n",
       "    </tr>\n",
       "    <tr>\n",
       "      <th>36</th>\n",
       "      <td>99</td>\n",
       "      <td>1</td>\n",
       "      <td>2870737</td>\n",
       "      <td>3948</td>\n",
       "      <td>1293097370</td>\n",
       "      <td>99.59%</td>\n",
       "    </tr>\n",
       "    <tr>\n",
       "      <th>48</th>\n",
       "      <td>100</td>\n",
       "      <td>1</td>\n",
       "      <td>3154725</td>\n",
       "      <td>4102</td>\n",
       "      <td>1333077631</td>\n",
       "      <td>99.98%</td>\n",
       "    </tr>\n",
       "  </tbody>\n",
       "</table>\n",
       "</div>"
      ],
      "text/plain": [
       "      年  月     旅客人數  列車次數        座位公里     準點率\n",
       "0    96  1  1161047  1034   318681191  99.61%\n",
       "12   97  1  1958004  3589  1187956874  99.75%\n",
       "24   98  1  2786684  4524  1486215471  98.74%\n",
       "36   99  1  2870737  3948  1293097370  99.59%\n",
       "48  100  1  3154725  4102  1333077631  99.98%"
      ]
     },
     "execution_count": 76,
     "metadata": {},
     "output_type": "execute_result"
    }
   ],
   "source": [
    "df1 = df[(df['月'] == 1)]\n",
    "df1.head()"
   ]
  },
  {
   "cell_type": "code",
   "execution_count": 51,
   "metadata": {},
   "outputs": [
    {
     "data": {
      "text/plain": [
       "0      1161047\n",
       "12     1958004\n",
       "24     2786684\n",
       "36     2870737\n",
       "48     3154725\n",
       "60     3940570\n",
       "72     3647415\n",
       "84     3799436\n",
       "96     3955998\n",
       "108    4604235\n",
       "120    5175232\n",
       "Name: 旅客人數, dtype: int64"
      ]
     },
     "execution_count": 51,
     "metadata": {},
     "output_type": "execute_result"
    }
   ],
   "source": [
    "df1['旅客人數']"
   ]
  },
  {
   "cell_type": "code",
   "execution_count": 77,
   "metadata": {},
   "outputs": [
    {
     "data": {
      "text/plain": [
       "37054083"
      ]
     },
     "execution_count": 77,
     "metadata": {},
     "output_type": "execute_result"
    }
   ],
   "source": [
    "sum1 = df1['旅客人數'].sum()\n",
    "sum1"
   ]
  },
  {
   "cell_type": "code",
   "execution_count": 78,
   "metadata": {},
   "outputs": [],
   "source": [
    "df2 = df[(df['月'] == 2)]\n",
    "sum2 = df2['旅客人數'].sum()\n",
    "df3 = df[(df['月'] == 3)]\n",
    "sum3 = df3['旅客人數'].sum()\n",
    "df4 = df[(df['月'] == 4)]\n",
    "sum4 = df4['旅客人數'].sum()\n",
    "df5 = df[(df['月'] == 5)]\n",
    "sum5 = df5['旅客人數'].sum()\n",
    "df6 = df[(df['月'] == 6)]\n",
    "sum6 = df6['旅客人數'].sum()\n",
    "df7 = df[(df['月'] == 7)]\n",
    "sum7 = df2['旅客人數'].sum()\n",
    "df8 = df[(df['月'] == 8)]\n",
    "sum8 = df2['旅客人數'].sum()\n",
    "df9 = df[(df['月'] == 9)]\n",
    "sum9 = df2['旅客人數'].sum()\n",
    "df10 = df[(df['月'] == 10)]\n",
    "sum10 = df2['旅客人數'].sum()\n",
    "df11 = df[(df['月'] == 11)]\n",
    "sum11 = df2['旅客人數'].sum()\n",
    "df12 = df[(df['月'] == 12)]\n",
    "sum12 = df2['旅客人數'].sum()"
   ]
  },
  {
   "cell_type": "code",
   "execution_count": 86,
   "metadata": {},
   "outputs": [
    {
     "data": {
      "text/plain": [
       "Text(0,0.5,'Traffic Volume')"
      ]
     },
     "execution_count": 86,
     "metadata": {},
     "output_type": "execute_result"
    },
    {
     "data": {
      "image/png": "[encoded data removed]",
      "text/plain": [
       "<Figure size 432x288 with 1 Axes>"
      ]
     },
     "metadata": {},
     "output_type": "display_data"
    }
   ],
   "source": [
    "num_passgs = pd.Series([sum1,sum2,sum3,sum4,sum5,sum6,sum7,sum8,sum9,sum10,sum11,sum12])\n",
    "num_passgs\n",
    "X = [1,2,3,4,5,6,7,8,9,10,11,12]\n",
    "plt.plot(X,[sum1,sum2,sum3,sum4,sum5,sum6,sum7,sum8,sum9,sum10,sum11,sum12])\n",
    "plt.title('Monthly total traffic')\n",
    "plt.xlabel('Month')\n",
    "plt.ylabel('Traffic Volume')"
   ]
  },
  {
   "cell_type": "markdown",
   "metadata": {},
   "source": [
    "     由此可知高鐵的尖峰運量為春季，且運量幾乎集中在上半年"
   ]
  },
  {
   "cell_type": "code",
   "execution_count": 93,
   "metadata": {},
   "outputs": [],
   "source": [
    "# 加入列車次數作比較\n",
    "sumtrain1 = df1['列車次數'].sum()\n",
    "sumtrain2 = df2['列車次數'].sum()\n",
    "sumtrain3 = df3['列車次數'].sum()\n",
    "sumtrain4 = df4['列車次數'].sum()\n",
    "sumtrain5 = df5['列車次數'].sum()\n",
    "sumtrain6 = df6['列車次數'].sum()\n",
    "sumtrain7 = df7['列車次數'].sum()\n",
    "sumtrain8 = df8['列車次數'].sum()\n",
    "sumtrain9 = df9['列車次數'].sum()\n",
    "sumtrain10 = df10['列車次數'].sum()\n",
    "sumtrain11 = df11['列車次數'].sum()\n",
    "sumtrain12 = df12['列車次數'].sum()"
   ]
  },
  {
   "cell_type": "code",
   "execution_count": 95,
   "metadata": {},
   "outputs": [
    {
     "data": {
      "text/plain": [
       "Text(0,0.5,'Traffic Volum per train')"
      ]
     },
     "execution_count": 95,
     "metadata": {},
     "output_type": "execute_result"
    },
    {
     "data": {
      "image/png": "[encoded data removed]",
      "text/plain": [
       "<Figure size 432x288 with 1 Axes>"
      ]
     },
     "metadata": {},
     "output_type": "display_data"
    }
   ],
   "source": [
    "X = [1,2,3,4,5,6,7,8,9,10,11,12]\n",
    "plt.plot(X,[sum1/sumtrain1,sum2/sumtrain2,sum3/sumtrain3,sum4/sumtrain4,sum5/sumtrain5,sum6/sumtrain6,sum7/sumtrain7,sum8/sumtrain8,sum9/sumtrain9,sum10/sumtrain10,sum11/sumtrain11,sum12/sumtrain12])\n",
    "plt.title('Monthly total traffic per train')\n",
    "plt.xlabel('Month')\n",
    "plt.ylabel('Traffic Volum per train')"
   ]
  },
  {
   "cell_type": "markdown",
   "metadata": {},
   "source": [
    "   此圖可知如果以每月每列車數的旅客人數來比較，旅運量較低的下半年反而有增加的趨勢，由此可知台灣高鐵公司發車的班次和旅運量呈現正相關。"
   ]
  },
  {
   "cell_type": "code",
   "execution_count": 104,
   "metadata": {},
   "outputs": [],
   "source": [
    "# 準點率比較\n",
    "rate1 = df1['準點率'].max()\n",
    "rate2 = df2['準點率'].max()\n",
    "rate3 = df3['準點率'].max()\n",
    "rate4 = df4['準點率'].max()\n",
    "rate5 = df5['準點率'].max()\n",
    "rate6 = df6['準點率'].max()\n",
    "rate7 = df7['準點率'].max()\n",
    "rate8 = df8['準點率'].max()\n",
    "rate9 = df9['準點率'].max()\n",
    "rate10 = df10['準點率'].max()\n",
    "rate11 = df11['準點率'].max()\n",
    "rate12 = df12['準點率'].max()"
   ]
  },
  {
   "cell_type": "code",
   "execution_count": 106,
   "metadata": {},
   "outputs": [
    {
     "data": {
      "text/plain": [
       "Text(0,0.5,'rate')"
      ]
     },
     "execution_count": 106,
     "metadata": {},
     "output_type": "execute_result"
    },
    {
     "data": {
      "image/png": "[encoded data removed]",
      "text/plain": [
       "<Figure size 432x288 with 1 Axes>"
      ]
     },
     "metadata": {},
     "output_type": "display_data"
    }
   ],
   "source": [
    "X = [1,2,3,4,5,6,7,8,9,10,11,12]\n",
    "plt.plot(X,[rate1,rate2,rate3,rate4,rate5,rate6,rate7,rate8,rate9,rate10,rate11,rate12])\n",
    "plt.title('Punctuality rate')\n",
    "plt.xlabel('Month')\n",
    "plt.ylabel('rate')"
   ]
  },
  {
   "cell_type": "markdown",
   "metadata": {},
   "source": [
    "   由此可知高鐵的準點率每月呈現一高一低的趨勢，可見高鐵系統的穩定是無法長久的。"
   ]
  },
  {
   "cell_type": "code",
   "execution_count": null,
   "metadata": {},
   "outputs": [],
   "source": []
  }
 ],
 "metadata": {
  "kernelspec": {
   "display_name": "Python 3",
   "language": "python",
   "name": "python3"
  },
  "language_info": {
   "codemirror_mode": {
    "name": "ipython",
    "version": 3
   },
   "file_extension": ".py",
   "mimetype": "text/x-python",
   "name": "python",
   "nbconvert_exporter": "python",
   "pygments_lexer": "ipython3",
   "version": "3.6.5"
  }
 },
 "nbformat": 4,
 "nbformat_minor": 2
}
