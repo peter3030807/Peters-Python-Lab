{
 "cells": [
  {
   "cell_type": "code",
   "execution_count": 1,
   "metadata": {},
   "outputs": [],
   "source": [
    "%matplotlib inline \n",
    "\n",
    "import numpy as np\n",
    "import matplotlib.pyplot as plt\n",
    "import pandas as pd"
   ]
  },
  {
   "cell_type": "code",
   "execution_count": 2,
   "metadata": {},
   "outputs": [],
   "source": [
    "df = pd.read_csv('https://data.moi.gov.tw/moiOD/System/DownloadFile.aspx?DATA=AAB80651-716F-4969-B5F8-5FD41B2DF7B2')"
   ]
  },
  {
   "cell_type": "code",
   "execution_count": 3,
   "metadata": {},
   "outputs": [
    {
     "data": {
      "text/html": [
       "<div>\n",
       "<style scoped>\n",
       "    .dataframe tbody tr th:only-of-type {\n",
       "        vertical-align: middle;\n",
       "    }\n",
       "\n",
       "    .dataframe tbody tr th {\n",
       "        vertical-align: top;\n",
       "    }\n",
       "\n",
       "    .dataframe thead th {\n",
       "        text-align: right;\n",
       "    }\n",
       "</style>\n",
       "<table border=\"1\" class=\"dataframe\">\n",
       "  <thead>\n",
       "    <tr style=\"text-align: right;\">\n",
       "      <th></th>\n",
       "      <th>statistic_yyy</th>\n",
       "      <th>site_id</th>\n",
       "      <th>village</th>\n",
       "      <th>household_ordinary_total</th>\n",
       "      <th>household_business_total</th>\n",
       "      <th>household_single_total</th>\n",
       "      <th>household_ordinary_m</th>\n",
       "      <th>household_business_m</th>\n",
       "      <th>household_single_m</th>\n",
       "      <th>household_ordinary_f</th>\n",
       "      <th>household_business_f</th>\n",
       "      <th>household_single_f</th>\n",
       "    </tr>\n",
       "  </thead>\n",
       "  <tbody>\n",
       "    <tr>\n",
       "      <th>0</th>\n",
       "      <td>統計年</td>\n",
       "      <td>區域別</td>\n",
       "      <td>村里名稱</td>\n",
       "      <td>共同生活戶_戶數</td>\n",
       "      <td>共同事業戶_戶數</td>\n",
       "      <td>單獨生活戶_戶數</td>\n",
       "      <td>共同生活戶_男</td>\n",
       "      <td>共同事業戶_男</td>\n",
       "      <td>單獨生活戶_男</td>\n",
       "      <td>共同生活戶_女</td>\n",
       "      <td>共同事業戶_女</td>\n",
       "      <td>單獨生活戶_女</td>\n",
       "    </tr>\n",
       "    <tr>\n",
       "      <th>1</th>\n",
       "      <td>106</td>\n",
       "      <td>新北市板橋區</td>\n",
       "      <td>留侯里</td>\n",
       "      <td>436</td>\n",
       "      <td>0</td>\n",
       "      <td>238</td>\n",
       "      <td>669</td>\n",
       "      <td>0</td>\n",
       "      <td>106</td>\n",
       "      <td>738</td>\n",
       "      <td>0</td>\n",
       "      <td>132</td>\n",
       "    </tr>\n",
       "    <tr>\n",
       "      <th>2</th>\n",
       "      <td>106</td>\n",
       "      <td>新北市板橋區</td>\n",
       "      <td>流芳里</td>\n",
       "      <td>389</td>\n",
       "      <td>0</td>\n",
       "      <td>251</td>\n",
       "      <td>620</td>\n",
       "      <td>0</td>\n",
       "      <td>110</td>\n",
       "      <td>696</td>\n",
       "      <td>0</td>\n",
       "      <td>141</td>\n",
       "    </tr>\n",
       "    <tr>\n",
       "      <th>3</th>\n",
       "      <td>106</td>\n",
       "      <td>新北市板橋區</td>\n",
       "      <td>赤松里</td>\n",
       "      <td>216</td>\n",
       "      <td>0</td>\n",
       "      <td>108</td>\n",
       "      <td>348</td>\n",
       "      <td>0</td>\n",
       "      <td>57</td>\n",
       "      <td>375</td>\n",
       "      <td>0</td>\n",
       "      <td>51</td>\n",
       "    </tr>\n",
       "    <tr>\n",
       "      <th>4</th>\n",
       "      <td>106</td>\n",
       "      <td>新北市板橋區</td>\n",
       "      <td>黃石里</td>\n",
       "      <td>297</td>\n",
       "      <td>0</td>\n",
       "      <td>139</td>\n",
       "      <td>501</td>\n",
       "      <td>0</td>\n",
       "      <td>67</td>\n",
       "      <td>507</td>\n",
       "      <td>0</td>\n",
       "      <td>72</td>\n",
       "    </tr>\n",
       "  </tbody>\n",
       "</table>\n",
       "</div>"
      ],
      "text/plain": [
       "  statistic_yyy site_id village household_ordinary_total  \\\n",
       "0           統計年     區域別    村里名稱                 共同生活戶_戶數   \n",
       "1           106  新北市板橋區     留侯里                      436   \n",
       "2           106  新北市板橋區     流芳里                      389   \n",
       "3           106  新北市板橋區     赤松里                      216   \n",
       "4           106  新北市板橋區     黃石里                      297   \n",
       "\n",
       "  household_business_total household_single_total household_ordinary_m  \\\n",
       "0                 共同事業戶_戶數               單獨生活戶_戶數              共同生活戶_男   \n",
       "1                        0                    238                  669   \n",
       "2                        0                    251                  620   \n",
       "3                        0                    108                  348   \n",
       "4                        0                    139                  501   \n",
       "\n",
       "  household_business_m household_single_m household_ordinary_f  \\\n",
       "0              共同事業戶_男            單獨生活戶_男              共同生活戶_女   \n",
       "1                    0                106                  738   \n",
       "2                    0                110                  696   \n",
       "3                    0                 57                  375   \n",
       "4                    0                 67                  507   \n",
       "\n",
       "  household_business_f household_single_f  \n",
       "0              共同事業戶_女            單獨生活戶_女  \n",
       "1                    0                132  \n",
       "2                    0                141  \n",
       "3                    0                 51  \n",
       "4                    0                 72  "
      ]
     },
     "execution_count": 3,
     "metadata": {},
     "output_type": "execute_result"
    }
   ],
   "source": [
    "df.head()"
   ]
  },
  {
   "cell_type": "code",
   "execution_count": 4,
   "metadata": {},
   "outputs": [],
   "source": [
    "df2 = df.drop(0, axis=0)"
   ]
  },
  {
   "cell_type": "code",
   "execution_count": 5,
   "metadata": {},
   "outputs": [],
   "source": [
    "df3 = df2.drop(['statistic_yyy','household_ordinary_total','household_business_total','household_single_total','household_ordinary_m','household_business_m','household_ordinary_f','household_business_f'], axis=1)\n"
   ]
  },
  {
   "cell_type": "code",
   "execution_count": 31,
   "metadata": {},
   "outputs": [
    {
     "data": {
      "text/html": [
       "<div>\n",
       "<style scoped>\n",
       "    .dataframe tbody tr th:only-of-type {\n",
       "        vertical-align: middle;\n",
       "    }\n",
       "\n",
       "    .dataframe tbody tr th {\n",
       "        vertical-align: top;\n",
       "    }\n",
       "\n",
       "    .dataframe thead th {\n",
       "        text-align: right;\n",
       "    }\n",
       "</style>\n",
       "<table border=\"1\" class=\"dataframe\">\n",
       "  <thead>\n",
       "    <tr style=\"text-align: right;\">\n",
       "      <th></th>\n",
       "      <th>site_id</th>\n",
       "      <th>village</th>\n",
       "      <th>household_single_m</th>\n",
       "      <th>household_single_f</th>\n",
       "    </tr>\n",
       "  </thead>\n",
       "  <tbody>\n",
       "    <tr>\n",
       "      <th>1</th>\n",
       "      <td>新北市板橋區</td>\n",
       "      <td>留侯里</td>\n",
       "      <td>106</td>\n",
       "      <td>132</td>\n",
       "    </tr>\n",
       "    <tr>\n",
       "      <th>2</th>\n",
       "      <td>新北市板橋區</td>\n",
       "      <td>流芳里</td>\n",
       "      <td>110</td>\n",
       "      <td>141</td>\n",
       "    </tr>\n",
       "    <tr>\n",
       "      <th>3</th>\n",
       "      <td>新北市板橋區</td>\n",
       "      <td>赤松里</td>\n",
       "      <td>57</td>\n",
       "      <td>51</td>\n",
       "    </tr>\n",
       "    <tr>\n",
       "      <th>4</th>\n",
       "      <td>新北市板橋區</td>\n",
       "      <td>黃石里</td>\n",
       "      <td>67</td>\n",
       "      <td>72</td>\n",
       "    </tr>\n",
       "    <tr>\n",
       "      <th>5</th>\n",
       "      <td>新北市板橋區</td>\n",
       "      <td>挹秀里</td>\n",
       "      <td>144</td>\n",
       "      <td>152</td>\n",
       "    </tr>\n",
       "  </tbody>\n",
       "</table>\n",
       "</div>"
      ],
      "text/plain": [
       "  site_id village household_single_m household_single_f\n",
       "1  新北市板橋區     留侯里                106                132\n",
       "2  新北市板橋區     流芳里                110                141\n",
       "3  新北市板橋區     赤松里                 57                 51\n",
       "4  新北市板橋區     黃石里                 67                 72\n",
       "5  新北市板橋區     挹秀里                144                152"
      ]
     },
     "execution_count": 31,
     "metadata": {},
     "output_type": "execute_result"
    }
   ],
   "source": [
    "df3.head()"
   ]
  },
  {
   "cell_type": "code",
   "execution_count": 6,
   "metadata": {},
   "outputs": [],
   "source": [
    "df4 = df3[:150]  #取前150資料做線性迴歸\n",
    "x = np.array(df4.household_single_m)\n",
    "y = np.array(df4.household_single_f)"
   ]
  },
  {
   "cell_type": "code",
   "execution_count": 22,
   "metadata": {},
   "outputs": [
    {
     "data": {
      "text/plain": [
       "<matplotlib.collections.PathCollection at 0x21f68aa81d0>"
      ]
     },
     "execution_count": 22,
     "metadata": {},
     "output_type": "execute_result"
    },
    {
     "data": {
      "image/png": "[encoded data removed]",
      "text/plain": [
       "<Figure size 432x288 with 1 Axes>"
      ]
     },
     "metadata": {},
     "output_type": "display_data"
    }
   ],
   "source": [
    "plt.scatter(x, y)"
   ]
  },
  {
   "cell_type": "code",
   "execution_count": 26,
   "metadata": {},
   "outputs": [],
   "source": [
    "from sklearn.linear_model import LinearRegression\n",
    "regr = LinearRegression()"
   ]
  },
  {
   "cell_type": "code",
   "execution_count": 27,
   "metadata": {},
   "outputs": [
    {
     "data": {
      "text/plain": [
       "LinearRegression(copy_X=True, fit_intercept=True, n_jobs=1, normalize=False)"
      ]
     },
     "execution_count": 27,
     "metadata": {},
     "output_type": "execute_result"
    }
   ],
   "source": [
    "X = x.reshape(len(x), 1)\n",
    "regr.fit(X, y)"
   ]
  },
  {
   "cell_type": "code",
   "execution_count": 28,
   "metadata": {},
   "outputs": [],
   "source": [
    "Y = regr.predict(X)"
   ]
  },
  {
   "cell_type": "code",
   "execution_count": 29,
   "metadata": {},
   "outputs": [
    {
     "data": {
      "text/plain": [
       "[<matplotlib.lines.Line2D at 0x21f68e25cf8>]"
      ]
     },
     "execution_count": 29,
     "metadata": {},
     "output_type": "execute_result"
    },
    {
     "data": {
      "image/png": "[encoded data removed]",
      "text/plain": [
       "<Figure size 432x288 with 1 Axes>"
      ]
     },
     "metadata": {},
     "output_type": "display_data"
    }
   ],
   "source": [
    "plt.scatter(x, y)\n",
    "plt.plot(x, Y, 'r')"
   ]
  },
  {
   "cell_type": "markdown",
   "metadata": {},
   "source": [
    "                 此題目不適合做線性迴歸"
   ]
  },
  {
   "cell_type": "code",
   "execution_count": 14,
   "metadata": {},
   "outputs": [],
   "source": [
    "from sklearn.model_selection import train_test_split"
   ]
  },
  {
   "cell_type": "code",
   "execution_count": 15,
   "metadata": {},
   "outputs": [],
   "source": [
    "X = x.reshape(len(x),1)\n",
    "Y = y.reshape(len(y),1)\n",
    "# 隨機切\n",
    "x_train,x_test,y_train,y_test = train_test_split(X,Y,test_size=0.2,random_state=1999)"
   ]
  },
  {
   "cell_type": "code",
   "execution_count": 18,
   "metadata": {},
   "outputs": [],
   "source": [
    "regr = LinearRegression()\n",
    "regr.fit(x_train,y_train)\n",
    "Y_pred = regr.predict(x_test)"
   ]
  },
  {
   "cell_type": "code",
   "execution_count": 17,
   "metadata": {},
   "outputs": [
    {
     "data": {
      "text/plain": [
       "0.46149335250815815"
      ]
     },
     "execution_count": 17,
     "metadata": {},
     "output_type": "execute_result"
    }
   ],
   "source": [
    "regr.score(x_test, y_test) "
   ]
  },
  {
   "cell_type": "markdown",
   "metadata": {},
   "source": [
    "預測準確率很低"
   ]
  },
  {
   "cell_type": "code",
   "execution_count": null,
   "metadata": {},
   "outputs": [],
   "source": []
  }
 ],
 "metadata": {
  "kernelspec": {
   "display_name": "Python 3",
   "language": "python",
   "name": "python3"
  },
  "language_info": {
   "codemirror_mode": {
    "name": "ipython",
    "version": 3
   },
   "file_extension": ".py",
   "mimetype": "text/x-python",
   "name": "python",
   "nbconvert_exporter": "python",
   "pygments_lexer": "ipython3",
   "version": "3.6.5"
  }
 },
 "nbformat": 4,
 "nbformat_minor": 2
}
